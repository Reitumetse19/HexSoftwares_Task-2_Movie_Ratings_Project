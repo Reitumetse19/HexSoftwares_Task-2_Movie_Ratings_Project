{
 "cells": [
  {
   "cell_type": "code",
   "execution_count": 1,
   "id": "4554fb98-d6e8-4c2c-a1ac-250e01cae9e7",
   "metadata": {
    "scrolled": true
   },
   "outputs": [
    {
     "data": {
      "text/html": [
       "<div>\n",
       "<style scoped>\n",
       "    .dataframe tbody tr th:only-of-type {\n",
       "        vertical-align: middle;\n",
       "    }\n",
       "\n",
       "    .dataframe tbody tr th {\n",
       "        vertical-align: top;\n",
       "    }\n",
       "\n",
       "    .dataframe thead th {\n",
       "        text-align: right;\n",
       "    }\n",
       "</style>\n",
       "<table border=\"1\" class=\"dataframe\">\n",
       "  <thead>\n",
       "    <tr style=\"text-align: right;\">\n",
       "      <th></th>\n",
       "      <th>id</th>\n",
       "      <th>title</th>\n",
       "      <th>overview</th>\n",
       "      <th>release_year</th>\n",
       "      <th>release_month</th>\n",
       "      <th>release_date</th>\n",
       "      <th>popularity</th>\n",
       "      <th>vote_average</th>\n",
       "      <th>vote_count</th>\n",
       "    </tr>\n",
       "  </thead>\n",
       "  <tbody>\n",
       "    <tr>\n",
       "      <th>0</th>\n",
       "      <td>238.0</td>\n",
       "      <td>The Godfather</td>\n",
       "      <td>Spanning the years 1945 to 1955, a chronicle o...</td>\n",
       "      <td>1972.0</td>\n",
       "      <td>3.0</td>\n",
       "      <td>14.0</td>\n",
       "      <td>164.432</td>\n",
       "      <td>8.71</td>\n",
       "      <td>18927.0</td>\n",
       "    </tr>\n",
       "    <tr>\n",
       "      <th>1</th>\n",
       "      <td>278.0</td>\n",
       "      <td>The Shawshank Redemption</td>\n",
       "      <td>Framed in the 1940s for the double murder of h...</td>\n",
       "      <td>1994.0</td>\n",
       "      <td>9.0</td>\n",
       "      <td>23.0</td>\n",
       "      <td>125.459</td>\n",
       "      <td>8.7</td>\n",
       "      <td>24906.0</td>\n",
       "    </tr>\n",
       "    <tr>\n",
       "      <th>2</th>\n",
       "      <td>240.0</td>\n",
       "      <td>The Godfather Part II</td>\n",
       "      <td>In the continuing saga of the Corleone crime f...</td>\n",
       "      <td>1974.0</td>\n",
       "      <td>12.0</td>\n",
       "      <td>20.0</td>\n",
       "      <td>84.987</td>\n",
       "      <td>8.59</td>\n",
       "      <td>11429.0</td>\n",
       "    </tr>\n",
       "    <tr>\n",
       "      <th>3</th>\n",
       "      <td>424.0</td>\n",
       "      <td>Schindler's List</td>\n",
       "      <td>The true story of how businessman Oskar Schind...</td>\n",
       "      <td>1993.0</td>\n",
       "      <td>12.0</td>\n",
       "      <td>15.0</td>\n",
       "      <td>66.416</td>\n",
       "      <td>8.571</td>\n",
       "      <td>14774.0</td>\n",
       "    </tr>\n",
       "    <tr>\n",
       "      <th>4</th>\n",
       "      <td>19404.0</td>\n",
       "      <td>Dilwale Dulhania Le Jayenge</td>\n",
       "      <td>Raj is a rich, carefree, happy-go-lucky second...</td>\n",
       "      <td>1995.0</td>\n",
       "      <td>10.0</td>\n",
       "      <td>20.0</td>\n",
       "      <td>35.366</td>\n",
       "      <td>8.547</td>\n",
       "      <td>4274.0</td>\n",
       "    </tr>\n",
       "  </tbody>\n",
       "</table>\n",
       "</div>"
      ],
      "text/plain": [
       "        id                        title  \\\n",
       "0    238.0                The Godfather   \n",
       "1    278.0     The Shawshank Redemption   \n",
       "2    240.0        The Godfather Part II   \n",
       "3    424.0             Schindler's List   \n",
       "4  19404.0  Dilwale Dulhania Le Jayenge   \n",
       "\n",
       "                                            overview  release_year  \\\n",
       "0  Spanning the years 1945 to 1955, a chronicle o...        1972.0   \n",
       "1  Framed in the 1940s for the double murder of h...        1994.0   \n",
       "2  In the continuing saga of the Corleone crime f...        1974.0   \n",
       "3  The true story of how businessman Oskar Schind...        1993.0   \n",
       "4  Raj is a rich, carefree, happy-go-lucky second...        1995.0   \n",
       "\n",
       "   release_month  release_date popularity vote_average  vote_count  \n",
       "0            3.0          14.0    164.432         8.71     18927.0  \n",
       "1            9.0          23.0    125.459          8.7     24906.0  \n",
       "2           12.0          20.0     84.987         8.59     11429.0  \n",
       "3           12.0          15.0     66.416        8.571     14774.0  \n",
       "4           10.0          20.0     35.366        8.547      4274.0  "
      ]
     },
     "execution_count": 1,
     "metadata": {},
     "output_type": "execute_result"
    }
   ],
   "source": [
    "import numpy as np\n",
    "import pandas as pd\n",
    "\n",
    "movie_df_path = \"C:\\\\Users\\\\Reitumetse\\\\OneDrive - Durban University of Technology\\\\movie rating.xlsx\"\n",
    "movie_df = pd.read_excel(movie_df_path)\n",
    "\n",
    "movie_df.head()\n"
   ]
  },
  {
   "cell_type": "code",
   "execution_count": 2,
   "id": "7b060833-2f17-4824-bb31-dbffe84bb75e",
   "metadata": {},
   "outputs": [
    {
     "name": "stdout",
     "output_type": "stream",
     "text": [
      "<class 'pandas.core.frame.DataFrame'>\n",
      "RangeIndex: 8945 entries, 0 to 8944\n",
      "Data columns (total 9 columns):\n",
      " #   Column         Non-Null Count  Dtype  \n",
      "---  ------         --------------  -----  \n",
      " 0   id             8942 non-null   float64\n",
      " 1   title          8944 non-null   object \n",
      " 2   overview       8943 non-null   object \n",
      " 3   release_year   8790 non-null   float64\n",
      " 4   release_month  8790 non-null   float64\n",
      " 5   release_date   8790 non-null   float64\n",
      " 6   popularity     8791 non-null   object \n",
      " 7   vote_average   8791 non-null   object \n",
      " 8   vote_count     8790 non-null   float64\n",
      "dtypes: float64(5), object(4)\n",
      "memory usage: 629.1+ KB\n"
     ]
    }
   ],
   "source": [
    "movie_df.info()"
   ]
  },
  {
   "cell_type": "code",
   "execution_count": 5,
   "id": "fb61ea15-0409-4a42-82fc-f93a5736f082",
   "metadata": {},
   "outputs": [
    {
     "name": "stderr",
     "output_type": "stream",
     "text": [
      "C:\\Users\\Reitumetse\\AppData\\Local\\Temp\\ipykernel_4492\\2013200467.py:3: FutureWarning: A value is trying to be set on a copy of a DataFrame or Series through chained assignment using an inplace method.\n",
      "The behavior will change in pandas 3.0. This inplace method will never work because the intermediate object on which we are setting values always behaves as a copy.\n",
      "\n",
      "For example, when doing 'df[col].method(value, inplace=True)', try using 'df.method({col: value}, inplace=True)' or df[col] = df[col].method(value) instead, to perform the operation inplace on the original object.\n",
      "\n",
      "\n",
      "  movie_df['popularity'].fillna(ave,inplace=True)\n",
      "C:\\Users\\Reitumetse\\AppData\\Local\\Temp\\ipykernel_4492\\2013200467.py:7: FutureWarning: A value is trying to be set on a copy of a DataFrame or Series through chained assignment using an inplace method.\n",
      "The behavior will change in pandas 3.0. This inplace method will never work because the intermediate object on which we are setting values always behaves as a copy.\n",
      "\n",
      "For example, when doing 'df[col].method(value, inplace=True)', try using 'df.method({col: value}, inplace=True)' or df[col] = df[col].method(value) instead, to perform the operation inplace on the original object.\n",
      "\n",
      "\n",
      "  movie_df['vote_average'].fillna(ave,inplace=True)\n",
      "C:\\Users\\Reitumetse\\AppData\\Local\\Temp\\ipykernel_4492\\2013200467.py:11: FutureWarning: A value is trying to be set on a copy of a DataFrame or Series through chained assignment using an inplace method.\n",
      "The behavior will change in pandas 3.0. This inplace method will never work because the intermediate object on which we are setting values always behaves as a copy.\n",
      "\n",
      "For example, when doing 'df[col].method(value, inplace=True)', try using 'df.method({col: value}, inplace=True)' or df[col] = df[col].method(value) instead, to perform the operation inplace on the original object.\n",
      "\n",
      "\n",
      "  movie_df['vote_count'].fillna(ave,inplace=True)\n",
      "C:\\Users\\Reitumetse\\AppData\\Local\\Temp\\ipykernel_4492\\2013200467.py:15: FutureWarning: A value is trying to be set on a copy of a DataFrame or Series through chained assignment using an inplace method.\n",
      "The behavior will change in pandas 3.0. This inplace method will never work because the intermediate object on which we are setting values always behaves as a copy.\n",
      "\n",
      "For example, when doing 'df[col].method(value, inplace=True)', try using 'df.method({col: value}, inplace=True)' or df[col] = df[col].method(value) instead, to perform the operation inplace on the original object.\n",
      "\n",
      "\n",
      "  movie_df['release_year'].fillna(ave,inplace=True)\n",
      "C:\\Users\\Reitumetse\\AppData\\Local\\Temp\\ipykernel_4492\\2013200467.py:19: FutureWarning: A value is trying to be set on a copy of a DataFrame or Series through chained assignment using an inplace method.\n",
      "The behavior will change in pandas 3.0. This inplace method will never work because the intermediate object on which we are setting values always behaves as a copy.\n",
      "\n",
      "For example, when doing 'df[col].method(value, inplace=True)', try using 'df.method({col: value}, inplace=True)' or df[col] = df[col].method(value) instead, to perform the operation inplace on the original object.\n",
      "\n",
      "\n",
      "  movie_df['release_month'].fillna(ave,inplace=True)\n",
      "C:\\Users\\Reitumetse\\AppData\\Local\\Temp\\ipykernel_4492\\2013200467.py:23: FutureWarning: A value is trying to be set on a copy of a DataFrame or Series through chained assignment using an inplace method.\n",
      "The behavior will change in pandas 3.0. This inplace method will never work because the intermediate object on which we are setting values always behaves as a copy.\n",
      "\n",
      "For example, when doing 'df[col].method(value, inplace=True)', try using 'df.method({col: value}, inplace=True)' or df[col] = df[col].method(value) instead, to perform the operation inplace on the original object.\n",
      "\n",
      "\n",
      "  movie_df['release_date'].fillna(ave,inplace=True)\n"
     ]
    },
    {
     "data": {
      "text/html": [
       "<div>\n",
       "<style scoped>\n",
       "    .dataframe tbody tr th:only-of-type {\n",
       "        vertical-align: middle;\n",
       "    }\n",
       "\n",
       "    .dataframe tbody tr th {\n",
       "        vertical-align: top;\n",
       "    }\n",
       "\n",
       "    .dataframe thead th {\n",
       "        text-align: right;\n",
       "    }\n",
       "</style>\n",
       "<table border=\"1\" class=\"dataframe\">\n",
       "  <thead>\n",
       "    <tr style=\"text-align: right;\">\n",
       "      <th></th>\n",
       "      <th>id</th>\n",
       "      <th>title</th>\n",
       "      <th>overview</th>\n",
       "      <th>release_year</th>\n",
       "      <th>release_month</th>\n",
       "      <th>release_date</th>\n",
       "      <th>popularity</th>\n",
       "      <th>vote_average</th>\n",
       "      <th>vote_count</th>\n",
       "    </tr>\n",
       "  </thead>\n",
       "  <tbody>\n",
       "    <tr>\n",
       "      <th>0</th>\n",
       "      <td>238.0</td>\n",
       "      <td>The Godfather</td>\n",
       "      <td>Spanning the years 1945 to 1955, a chronicle o...</td>\n",
       "      <td>1972.0</td>\n",
       "      <td>3.0</td>\n",
       "      <td>14.0</td>\n",
       "      <td>164.432</td>\n",
       "      <td>8.710</td>\n",
       "      <td>18927.0</td>\n",
       "    </tr>\n",
       "    <tr>\n",
       "      <th>1</th>\n",
       "      <td>278.0</td>\n",
       "      <td>The Shawshank Redemption</td>\n",
       "      <td>Framed in the 1940s for the double murder of h...</td>\n",
       "      <td>1994.0</td>\n",
       "      <td>9.0</td>\n",
       "      <td>23.0</td>\n",
       "      <td>125.459</td>\n",
       "      <td>8.700</td>\n",
       "      <td>24906.0</td>\n",
       "    </tr>\n",
       "    <tr>\n",
       "      <th>2</th>\n",
       "      <td>240.0</td>\n",
       "      <td>The Godfather Part II</td>\n",
       "      <td>In the continuing saga of the Corleone crime f...</td>\n",
       "      <td>1974.0</td>\n",
       "      <td>12.0</td>\n",
       "      <td>20.0</td>\n",
       "      <td>84.987</td>\n",
       "      <td>8.590</td>\n",
       "      <td>11429.0</td>\n",
       "    </tr>\n",
       "    <tr>\n",
       "      <th>3</th>\n",
       "      <td>424.0</td>\n",
       "      <td>Schindler's List</td>\n",
       "      <td>The true story of how businessman Oskar Schind...</td>\n",
       "      <td>1993.0</td>\n",
       "      <td>12.0</td>\n",
       "      <td>15.0</td>\n",
       "      <td>66.416</td>\n",
       "      <td>8.571</td>\n",
       "      <td>14774.0</td>\n",
       "    </tr>\n",
       "    <tr>\n",
       "      <th>4</th>\n",
       "      <td>19404.0</td>\n",
       "      <td>Dilwale Dulhania Le Jayenge</td>\n",
       "      <td>Raj is a rich, carefree, happy-go-lucky second...</td>\n",
       "      <td>1995.0</td>\n",
       "      <td>10.0</td>\n",
       "      <td>20.0</td>\n",
       "      <td>35.366</td>\n",
       "      <td>8.547</td>\n",
       "      <td>4274.0</td>\n",
       "    </tr>\n",
       "  </tbody>\n",
       "</table>\n",
       "</div>"
      ],
      "text/plain": [
       "        id                        title  \\\n",
       "0    238.0                The Godfather   \n",
       "1    278.0     The Shawshank Redemption   \n",
       "2    240.0        The Godfather Part II   \n",
       "3    424.0             Schindler's List   \n",
       "4  19404.0  Dilwale Dulhania Le Jayenge   \n",
       "\n",
       "                                            overview  release_year  \\\n",
       "0  Spanning the years 1945 to 1955, a chronicle o...        1972.0   \n",
       "1  Framed in the 1940s for the double murder of h...        1994.0   \n",
       "2  In the continuing saga of the Corleone crime f...        1974.0   \n",
       "3  The true story of how businessman Oskar Schind...        1993.0   \n",
       "4  Raj is a rich, carefree, happy-go-lucky second...        1995.0   \n",
       "\n",
       "   release_month  release_date  popularity  vote_average  vote_count  \n",
       "0            3.0          14.0     164.432         8.710     18927.0  \n",
       "1            9.0          23.0     125.459         8.700     24906.0  \n",
       "2           12.0          20.0      84.987         8.590     11429.0  \n",
       "3           12.0          15.0      66.416         8.571     14774.0  \n",
       "4           10.0          20.0      35.366         8.547      4274.0  "
      ]
     },
     "execution_count": 5,
     "metadata": {},
     "output_type": "execute_result"
    }
   ],
   "source": [
    "movie_df['popularity'] = pd.to_numeric(movie_df['popularity'], errors ='coerce')\n",
    "ave = movie_df['popularity'].mean()\n",
    "movie_df['popularity'].fillna(ave,inplace=True)\n",
    "\n",
    "movie_df['vote_average'] = pd.to_numeric(movie_df['vote_average'], errors ='coerce')\n",
    "ave = movie_df['vote_average'].mean()\n",
    "movie_df['vote_average'].fillna(ave,inplace=True)\n",
    "\n",
    "movie_df['vote_count'] = pd.to_numeric(movie_df['vote_count'], errors ='coerce')\n",
    "ave = movie_df['vote_count'].mean()\n",
    "movie_df['vote_count'].fillna(ave,inplace=True)\n",
    "\n",
    "movie_df['release_year'] = pd.to_numeric(movie_df['release_year'], errors ='coerce')\n",
    "ave = movie_df['release_year'].mean()\n",
    "movie_df['release_year'].fillna(ave,inplace=True)\n",
    "\n",
    "movie_df['release_month'] = pd.to_numeric(movie_df['release_month'], errors ='coerce')\n",
    "ave = movie_df['release_month'].mean()\n",
    "movie_df['release_month'].fillna(ave,inplace=True)\n",
    "\n",
    "movie_df['release_date'] = pd.to_numeric(movie_df['release_date'], errors ='coerce')\n",
    "ave = movie_df['release_date'].mean()\n",
    "movie_df['release_date'].fillna(ave,inplace=True)\n",
    "\n",
    "movie_df['id'] = movie_df['id'].fillna('not found.')\n",
    "\n",
    "movie_df['overview'] = movie_df['overview'].fillna('No overview available.')\n",
    "\n",
    "movie_df['title'] = movie_df['title'].fillna('Unknown title.')\n",
    "\n",
    "movie_df.head()"
   ]
  },
  {
   "cell_type": "code",
   "execution_count": 7,
   "id": "5a96cf9d-919b-4db9-94de-e55b5fae0876",
   "metadata": {},
   "outputs": [
    {
     "name": "stdout",
     "output_type": "stream",
     "text": [
      "<class 'pandas.core.frame.DataFrame'>\n",
      "RangeIndex: 8945 entries, 0 to 8944\n",
      "Data columns (total 9 columns):\n",
      " #   Column         Non-Null Count  Dtype  \n",
      "---  ------         --------------  -----  \n",
      " 0   id             8945 non-null   object \n",
      " 1   title          8945 non-null   object \n",
      " 2   overview       8945 non-null   object \n",
      " 3   release_year   8945 non-null   float64\n",
      " 4   release_month  8945 non-null   float64\n",
      " 5   release_date   8945 non-null   float64\n",
      " 6   popularity     8945 non-null   float64\n",
      " 7   vote_average   8945 non-null   float64\n",
      " 8   vote_count     8945 non-null   float64\n",
      "dtypes: float64(6), object(3)\n",
      "memory usage: 629.1+ KB\n"
     ]
    },
    {
     "data": {
      "text/plain": [
       "(None,\n",
       "        release_year  release_month  release_date   popularity  vote_average  \\\n",
       " count   8945.000000    8945.000000   8945.000000  8945.000000   8945.000000   \n",
       " mean    2004.159613       6.984869     15.644255    29.266931      6.634362   \n",
       " std       16.708423       3.381937      8.441863    72.300547      0.786681   \n",
       " min     1902.000000       1.000000      1.000000     0.600000      2.090000   \n",
       " 25%     1998.000000       4.000000      9.000000    13.034000      6.122000   \n",
       " 50%     2009.000000       7.000000     15.644255    18.153000      6.637000   \n",
       " 75%     2016.000000      10.000000     23.000000    29.207000      7.200000   \n",
       " max     2023.000000      12.000000     31.000000  3018.297000      8.710000   \n",
       " \n",
       "          vote_count  \n",
       " count   8945.000000  \n",
       " mean    1966.817861  \n",
       " std     3035.258535  \n",
       " min      300.000000  \n",
       " 25%      473.000000  \n",
       " 50%      868.000000  \n",
       " 75%     1966.817861  \n",
       " max    34728.000000  )"
      ]
     },
     "execution_count": 7,
     "metadata": {},
     "output_type": "execute_result"
    }
   ],
   "source": [
    "movie_df.info(), movie_df.describe()\n"
   ]
  },
  {
   "cell_type": "code",
   "execution_count": 9,
   "id": "bfe4ad28-6d61-4023-af03-0338267b1e87",
   "metadata": {},
   "outputs": [
    {
     "name": "stdout",
     "output_type": "stream",
     "text": [
      "The mean range is\": 7\n",
      "The median range is: 7\n",
      "The mode is: 7\n"
     ]
    }
   ],
   "source": [
    "from scipy import stats\n",
    "\n",
    "mean_stat = round(movie_df['vote_average'].mean())\n",
    "\n",
    "median_rate = round(movie_df['vote_average'].median())\n",
    "\n",
    "mode_rating = round(stats.mode(movie_df['vote_average'], keepdims=True).mode[0])\n",
    "\n",
    "print('The mean range is\":',mean_stat)\n",
    "print('The median range is:',median_rate)\n",
    "print('The mode is:',mode_rating)"
   ]
  },
  {
   "cell_type": "code",
   "execution_count": 11,
   "id": "43c029b8-04ed-4ffa-a06d-d2a580699364",
   "metadata": {},
   "outputs": [
    {
     "data": {
      "image/png": "[encoded data removed]",
      "text/plain": [
       "<Figure size 1600x600 with 1 Axes>"
      ]
     },
     "metadata": {},
     "output_type": "display_data"
    }
   ],
   "source": [
    "import pandas as pd\n",
    "import seaborn as sns\n",
    "import matplotlib.pyplot as plt\n",
    "\n",
    "sns.set(style=\"whitegrid\")\n",
    "plt.figure(figsize=(16, 6))\n",
    "\n",
    "plt.subplot(1, 2, 1)\n",
    "sns.histplot(movie_df['vote_average'], bins=20, kde=True, color='m')\n",
    "plt.title('Distribution of Movie Ratings')\n",
    "plt.xlabel('Rating')\n",
    "plt.ylabel('Frequency')\n",
    "\n",
    "plt.tight_layout()\n",
    "plt.show()"
   ]
  },
  {
   "cell_type": "code",
   "execution_count": 149,
   "id": "f246bc75-1a2a-4c14-8a3a-3b1a33f4027a",
   "metadata": {},
   "outputs": [
    {
     "data": {
      "image/png": "[encoded data removed]",
      "text/plain": [
       "<Figure size 1600x600 with 1 Axes>"
      ]
     },
     "metadata": {},
     "output_type": "display_data"
    }
   ],
   "source": [
    "import pandas as pd\n",
    "import seaborn as sns\n",
    "import matplotlib.pyplot as plt\n",
    "\n",
    "sns.set(style=\"whitegrid\")\n",
    "plt.figure(figsize=(16, 6))\n",
    "\n",
    "plt.subplot(1, 2, 2)\n",
    "sns.boxplot(x=movie_df['vote_average'], color='red')\n",
    "plt.title('Distribution of Movie Ratings')\n",
    "plt.xlabel('Rating')\n",
    "\n",
    "plt.tight_layout()\n",
    "plt.show()"
   ]
  },
  {
   "cell_type": "code",
   "execution_count": 13,
   "id": "1aa83e28-781d-422f-aee7-56166b7de650",
   "metadata": {},
   "outputs": [
    {
     "name": "stdout",
     "output_type": "stream",
     "text": [
      "Top 5 Rated Movies:\n",
      "                         title  vote_average  vote_count\n",
      "0                The Godfather         8.710     18927.0\n",
      "1     The Shawshank Redemption         8.700     24906.0\n",
      "2        The Godfather Part II         8.590     11429.0\n",
      "3             Schindler's List         8.571     14774.0\n",
      "4  Dilwale Dulhania Le Jayenge         8.547      4274.0\n"
     ]
    }
   ],
   "source": [
    "top_movies = movie_df.sort_values(by=['vote_average', 'vote_count'], ascending=[False, False])\n",
    "\n",
    "top_5_movies = top_movies[['title', 'vote_average', 'vote_count']].head(5)\n",
    "\n",
    "print(\"Top 5 Rated Movies:\")\n",
    "print(top_5_movies)\n"
   ]
  },
  {
   "cell_type": "code",
   "execution_count": 15,
   "id": "5f056804-02fc-405b-874c-ae911aa3d74d",
   "metadata": {},
   "outputs": [
    {
     "name": "stdout",
     "output_type": "stream",
     "text": [
      "There is no 'genres' column in the dataset.\n"
     ]
    }
   ],
   "source": [
    "if 'genres' in movie_df.columns:\n",
    "    movie_df['vote_average'] = pd.to_numeric(movie_df['vote_average'], errors='coerce')\n",
    "    movie_rating = movie_df.dropna(subset=['genres', 'vote_average'])\n",
    "\n",
    "    \n",
    "    movie_rating['genres'] = movie_rating['genres'].str.split(', ')\n",
    "    movie_split = movie_rating.explode('genres')\n",
    "\n",
    "    \n",
    "    genre_ratings = movie_split.groupby('genres')['vote_average'].mean().sort_values(ascending=False)\n",
    "\n",
    "    print(\"Top-Rated Genres:\")\n",
    "    print(genre_ratings.head(5))\n",
    "else:\n",
    "    print(\"There is no 'genres' column in the dataset.\")\n"
   ]
  },
  {
   "cell_type": "code",
   "execution_count": null,
   "id": "dbd97fee-cde5-4695-abf7-42e794ebd85c",
   "metadata": {},
   "outputs": [],
   "source": []
  }
 ],
 "metadata": {
  "kernelspec": {
   "display_name": "Python [conda env:base] *",
   "language": "python",
   "name": "conda-base-py"
  },
  "language_info": {
   "codemirror_mode": {
    "name": "ipython",
    "version": 3
   },
   "file_extension": ".py",
   "mimetype": "text/x-python",
   "name": "python",
   "nbconvert_exporter": "python",
   "pygments_lexer": "ipython3",
   "version": "3.12.7"
  }
 },
 "nbformat": 4,
 "nbformat_minor": 5
}
